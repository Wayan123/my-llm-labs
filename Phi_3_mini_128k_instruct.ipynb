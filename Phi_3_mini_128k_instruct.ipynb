{
  "nbformat": 4,
  "nbformat_minor": 0,
  "metadata": {
    "colab": {
      "private_outputs": true,
      "provenance": [],
      "gpuType": "T4"
    },
    "kernelspec": {
      "name": "python3",
      "display_name": "Python 3"
    },
    "language_info": {
      "name": "python"
    },
    "accelerator": "GPU"
  },
  "cells": [
    {
      "cell_type": "code",
      "source": [
        "!pip install -q spaces\n",
        "!pip install -q accelerate\n",
        "!pip install q transformers"
      ],
      "metadata": {
        "id": "lchC3v5kAypA"
      },
      "execution_count": null,
      "outputs": []
    },
    {
      "cell_type": "markdown",
      "source": [
        "# Run on GPU"
      ],
      "metadata": {
        "id": "UTRfwySTIYks"
      }
    },
    {
      "cell_type": "code",
      "source": [
        "# import gradio as gr\n",
        "import torch\n",
        "from transformers import (\n",
        "    AutoModelForCausalLM,\n",
        "    AutoTokenizer,\n",
        "    TextIteratorStreamer,\n",
        "    pipeline,\n",
        ")\n",
        "import os\n",
        "from threading import Thread\n",
        "import spaces\n",
        "import time\n",
        "import subprocess\n",
        "\n",
        "subprocess.run(\n",
        "    \"pip install flash-attn --no-build-isolation\",\n",
        "    env={\"FLASH_ATTENTION_SKIP_CUDA_BUILD\": \"TRUE\"},\n",
        "    shell=True,\n",
        ")\n",
        "\n",
        "# Inisialisasi model dan tokenizer\n",
        "torch.random.manual_seed(0)\n",
        "model = AutoModelForCausalLM.from_pretrained(\n",
        "    \"microsoft/Phi-3-mini-128k-instruct\",\n",
        "    device_map=\"cuda\",\n",
        "    torch_dtype=\"auto\",\n",
        "    trust_remote_code=True,\n",
        ")\n",
        "tokenizer = AutoTokenizer.from_pretrained(\"microsoft/Phi-3-mini-128k-instruct\")\n",
        "\n",
        "# Definisikan pesan-pesan untuk di-generate\n",
        "messages = [\n",
        "    {\"role\": \"user\", \"content\": \"Can you provide ways to eat combinations of bananas and dragonfruits?\"},\n",
        "    {\"role\": \"assistant\", \"content\": \"Sure! Here are some ways to eat bananas and dragonfruits together: 1. Banana and dragonfruit smoothie: Blend bananas and dragonfruits together with some milk and honey. 2. Banana and dragonfruit salad: Mix sliced bananas and dragonfruits together with some lemon juice and honey.\"},\n",
        "    {\"role\": \"user\", \"content\": \"What about solving an 2x + 3 = 7 equation?\"},\n",
        "]\n",
        "\n",
        "# Inisialisasi pipeline untuk text generation\n",
        "pipe = pipeline(\n",
        "    \"text-generation\",\n",
        "    model=model,\n",
        "    tokenizer=tokenizer,\n",
        ")\n",
        "\n",
        "# Definisikan argumen untuk generasi teks\n",
        "generation_args = {\n",
        "    \"max_new_tokens\": 4096,\n",
        "    \"return_full_text\": False,\n",
        "    \"temperature\": 0.7,\n",
        "    \"do_sample\": True,\n",
        "}\n",
        "\n",
        "# Ukur waktu yang diperlukan untuk menjalankan pipeline\n",
        "start_time = time.time()\n",
        "output = pipe(messages, **generation_args)\n",
        "end_time = time.time()\n",
        "latency_seconds = end_time - start_time\n",
        "\n",
        "# Cetak hasil generasi teks beserta waktu eksekusi\n",
        "print(output[0]['generated_text'])\n",
        "print(\"Latency:\", latency_seconds, \"seconds\")\n"
      ],
      "metadata": {
        "id": "cIvAeq57ITby"
      },
      "execution_count": null,
      "outputs": []
    },
    {
      "cell_type": "markdown",
      "source": [
        "# Run on CPU"
      ],
      "metadata": {
        "id": "BVIIZmKRIU-c"
      }
    },
    {
      "cell_type": "code",
      "execution_count": null,
      "metadata": {
        "id": "Jl0KZUrt_ymy"
      },
      "outputs": [],
      "source": [
        "# import gradio as gr\n",
        "import torch\n",
        "from transformers import (\n",
        "    AutoModelForCausalLM,\n",
        "    AutoTokenizer,\n",
        "    TextIteratorStreamer,\n",
        "    pipeline,\n",
        ")\n",
        "import os\n",
        "from threading import Thread\n",
        "import spaces\n",
        "import time\n",
        "import subprocess\n",
        "\n",
        "subprocess.run(\n",
        "    \"pip install flash-attn --no-build-isolation\",\n",
        "    env={\"FLASH_ATTENTION_SKIP_CUDA_BUILD\": \"TRUE\"},\n",
        "    shell=True,\n",
        ")\n",
        "\n",
        "# Inisialisasi model dan tokenizer\n",
        "torch.random.manual_seed(0)\n",
        "model = AutoModelForCausalLM.from_pretrained(\n",
        "    \"microsoft/Phi-3-mini-128k-instruct\",\n",
        "    device_map=\"cpu\",\n",
        "    torch_dtype=\"auto\",\n",
        "    trust_remote_code=True,\n",
        ")\n",
        "tokenizer = AutoTokenizer.from_pretrained(\"microsoft/Phi-3-mini-128k-instruct\")\n",
        "\n",
        "# Definisikan pesan-pesan untuk di-generate\n",
        "messages = [\n",
        "    {\"role\": \"user\", \"content\": \"Can you provide ways to eat combinations of bananas and dragonfruits?\"},\n",
        "    {\"role\": \"assistant\", \"content\": \"Sure! Here are some ways to eat bananas and dragonfruits together: 1. Banana and dragonfruit smoothie: Blend bananas and dragonfruits together with some milk and honey. 2. Banana and dragonfruit salad: Mix sliced bananas and dragonfruits together with some lemon juice and honey.\"},\n",
        "    {\"role\": \"user\", \"content\": \"What about solving an 2x + 3 = 7 equation?\"},\n",
        "]\n",
        "\n",
        "# Inisialisasi pipeline untuk text generation\n",
        "pipe = pipeline(\n",
        "    \"text-generation\",\n",
        "    model=model,\n",
        "    tokenizer=tokenizer,\n",
        ")\n",
        "\n",
        "# Definisikan argumen untuk generasi teks\n",
        "generation_args = {\n",
        "    \"max_new_tokens\": 4096,\n",
        "    \"return_full_text\": False,\n",
        "    \"temperature\": 0.7,\n",
        "    \"do_sample\": True,\n",
        "}\n",
        "\n",
        "# Ukur waktu yang diperlukan untuk menjalankan pipeline\n",
        "start_time = time.time()\n",
        "output = pipe(messages, **generation_args)\n",
        "end_time = time.time()\n",
        "latency_seconds = end_time - start_time\n",
        "\n",
        "# Cetak hasil generasi teks beserta waktu eksekusi\n",
        "print(output[0]['generated_text'])\n",
        "print(\"Latency:\", latency_seconds, \"seconds\")\n"
      ]
    }
  ]
}